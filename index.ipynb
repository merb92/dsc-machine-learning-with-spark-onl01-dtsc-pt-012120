{
 "cells": [
  {
   "cell_type": "markdown",
   "metadata": {},
   "source": [
    "# Machine Learning with Spark\n",
    "\n",
    "## Introduction\n",
    "\n",
    "You've now explored how to perform operations on Spark RDDs for simple MapReduce tasks. Luckily, there are far more advanced use cases for Spark, and many of them are found in the `ml` library, which we are going to explore in this lesson.\n",
    "\n",
    "\n",
    "## Objectives\n",
    "\n",
    "You will be able to: \n",
    "\n",
    "- Load and manipulate data using Spark DataFrames  \n",
    "- Define estimators and transformers in Spark ML \n",
    "- Create a Spark ML pipeline that transforms data and runs over a grid of hyperparameters \n",
    "\n",
    "\n",
    "\n",
    "## A Tale of Two Libraries\n",
    "\n",
    "If you look at the PySpark documentation, you'll notice that there are two different libraries for machine learning, [mllib](https://spark.apache.org/docs/latest/api/python/pyspark.mllib.html) and [ml](https://spark.apache.org/docs/latest/api/python/pyspark.ml.html). These libraries are extremely similar to one another, the only difference being that the `mllib` library is built upon the RDDs you just practiced using; whereas, the `ml` library is built on higher level Spark DataFrames, which has methods and attributes similar to pandas. Spark has stated that in the future, it is going to devote more effort to the `ml` library and that `mllib` will become deprecated. It's important to note that these libraries are much younger than pandas and scikit-learn and there are not as many features present in either.\n",
    "\n",
    "## Spark DataFrames\n",
    "\n",
    "In the previous lessons, you were introduced to SparkContext as the primary way to connect with a Spark Application. Here, we will be using SparkSession, which is from the [sql](https://spark.apache.org/docs/latest/api/python/pyspark.sql.html) component of PySpark. The SparkSession acts the same way as SparkContext; it is a bridge between Python and the Spark Application. It's just built on top of the Spark SQL API, a higher-level API than RDDs. In fact, a SparkContext object is spun up around which the SparkSession object is wrapped. Let's go through the process of manipulating some data here. For this example, we're going to be using the [Forest Fire dataset](https://archive.ics.uci.edu/ml/datasets/Forest+Fires) from UCI, which contains data about the area burned by wildfires in the Northeast region of Portugal in relation to numerous other factors.\n",
    "\n",
    "To begin with, let's create a SparkSession so that we can spin up our spark application. "
   ]
  },
  {
   "cell_type": "code",
   "execution_count": 3,
   "metadata": {},
   "outputs": [],
   "source": [
    "# importing the necessary libraries\n",
    "from pyspark import SparkContext\n",
    "from pyspark.sql import SparkSession\n",
    "# sc = SparkContext('local[*]')\n",
    "# spark = SparkSession(sc)"
   ]
  },
  {
   "cell_type": "markdown",
   "metadata": {},
   "source": [
    "To create a SparkSession: "
   ]
  },
  {
   "cell_type": "code",
   "execution_count": 4,
   "metadata": {},
   "outputs": [],
   "source": [
    "spark = SparkSession.builder.master('local').getOrCreate()"
   ]
  },
  {
   "cell_type": "markdown",
   "metadata": {},
   "source": [
    "Now, we'll load the data into a PySpark DataFrame: "
   ]
  },
  {
   "cell_type": "code",
   "execution_count": 5,
   "metadata": {},
   "outputs": [
    {
     "data": {
      "text/plain": [
       "pyspark.sql.dataframe.DataFrame"
      ]
     },
     "execution_count": 5,
     "metadata": {},
     "output_type": "execute_result"
    }
   ],
   "source": [
    "## reading in pyspark df\n",
    "spark_df = spark.read.csv('./forestfires.csv', header='true', inferSchema='true')\n",
    "\n",
    "## observing the datatype of df\n",
    "type(spark_df)"
   ]
  },
  {
   "cell_type": "markdown",
   "metadata": {},
   "source": [
    "You'll notice that some of the methods are extremely similar or the same as those found within Pandas."
   ]
  },
  {
   "cell_type": "code",
   "execution_count": 6,
   "metadata": {},
   "outputs": [
    {
     "data": {
      "text/plain": [
       "Row(X=7, Y=5, month='mar', day='fri', FFMC=86.2, DMC=26.2, DC=94.3, ISI=5.1, temp=8.2, RH=51, wind=6.7, rain=0.0, area=0.0)"
      ]
     },
     "execution_count": 6,
     "metadata": {},
     "output_type": "execute_result"
    }
   ],
   "source": [
    "spark_df.head()"
   ]
  },
  {
   "cell_type": "code",
   "execution_count": 7,
   "metadata": {},
   "outputs": [
    {
     "data": {
      "text/plain": [
       "['X',\n",
       " 'Y',\n",
       " 'month',\n",
       " 'day',\n",
       " 'FFMC',\n",
       " 'DMC',\n",
       " 'DC',\n",
       " 'ISI',\n",
       " 'temp',\n",
       " 'RH',\n",
       " 'wind',\n",
       " 'rain',\n",
       " 'area']"
      ]
     },
     "execution_count": 7,
     "metadata": {},
     "output_type": "execute_result"
    }
   ],
   "source": [
    "spark_df.columns"
   ]
  },
  {
   "cell_type": "markdown",
   "metadata": {},
   "source": [
    "Selecting multiple columns is similar as well: "
   ]
  },
  {
   "cell_type": "code",
   "execution_count": 8,
   "metadata": {},
   "outputs": [
    {
     "data": {
      "text/plain": [
       "DataFrame[month: string, day: string, rain: double]"
      ]
     },
     "execution_count": 8,
     "metadata": {},
     "output_type": "execute_result"
    }
   ],
   "source": [
    "spark_df[['month','day','rain']]"
   ]
  },
  {
   "cell_type": "markdown",
   "metadata": {},
   "source": [
    "But selecting one column is different. If you want to maintain the methods of a spark DataFrame, you should use the `.select()` method. If you want to just select the column, you can use the same method you would use in pandas (this is primarily what you would use if you're attempting to create a boolean mask). "
   ]
  },
  {
   "cell_type": "code",
   "execution_count": 9,
   "metadata": {
    "scrolled": true
   },
   "outputs": [],
   "source": [
    "d = spark_df.select('rain')"
   ]
  },
  {
   "cell_type": "code",
   "execution_count": 10,
   "metadata": {},
   "outputs": [
    {
     "data": {
      "text/plain": [
       "Column<b'rain'>"
      ]
     },
     "execution_count": 10,
     "metadata": {},
     "output_type": "execute_result"
    }
   ],
   "source": [
    "spark_df['rain']"
   ]
  },
  {
   "cell_type": "markdown",
   "metadata": {},
   "source": [
    "Let's take a look at all of our data types in this dataframe"
   ]
  },
  {
   "cell_type": "code",
   "execution_count": 11,
   "metadata": {},
   "outputs": [
    {
     "data": {
      "text/plain": [
       "[('X', 'int'),\n",
       " ('Y', 'int'),\n",
       " ('month', 'string'),\n",
       " ('day', 'string'),\n",
       " ('FFMC', 'double'),\n",
       " ('DMC', 'double'),\n",
       " ('DC', 'double'),\n",
       " ('ISI', 'double'),\n",
       " ('temp', 'double'),\n",
       " ('RH', 'int'),\n",
       " ('wind', 'double'),\n",
       " ('rain', 'double'),\n",
       " ('area', 'double')]"
      ]
     },
     "execution_count": 11,
     "metadata": {},
     "output_type": "execute_result"
    }
   ],
   "source": [
    "spark_df.dtypes"
   ]
  },
  {
   "cell_type": "markdown",
   "metadata": {},
   "source": [
    "## Aggregations with our DataFrame"
   ]
  },
  {
   "cell_type": "markdown",
   "metadata": {},
   "source": [
    "Let's investigate to see if there is any correlation between what month it is and the area of fire: "
   ]
  },
  {
   "cell_type": "code",
   "execution_count": 12,
   "metadata": {},
   "outputs": [
    {
     "data": {
      "text/plain": [
       "DataFrame[month: string, avg(area): double]"
      ]
     },
     "execution_count": 12,
     "metadata": {},
     "output_type": "execute_result"
    }
   ],
   "source": [
    "spark_df_months = spark_df.groupBy('month').agg({'area': 'mean'})\n",
    "spark_df_months"
   ]
  },
  {
   "cell_type": "markdown",
   "metadata": {},
   "source": [
    "Notice how the grouped DataFrame is not returned when you call the aggregation method. Remember, this is still Spark! The transformations and actions are kept separate so that it is easier to manage large quantities of data. You can perform the transformation by calling `.collect()`: "
   ]
  },
  {
   "cell_type": "code",
   "execution_count": 13,
   "metadata": {},
   "outputs": [
    {
     "data": {
      "text/plain": [
       "[Row(month='jun', avg(area)=5.841176470588234),\n",
       " Row(month='aug', avg(area)=12.489076086956521),\n",
       " Row(month='may', avg(area)=19.24),\n",
       " Row(month='feb', avg(area)=6.275),\n",
       " Row(month='sep', avg(area)=17.942616279069753),\n",
       " Row(month='mar', avg(area)=4.356666666666667),\n",
       " Row(month='oct', avg(area)=6.638),\n",
       " Row(month='jul', avg(area)=14.3696875),\n",
       " Row(month='nov', avg(area)=0.0),\n",
       " Row(month='apr', avg(area)=8.891111111111112),\n",
       " Row(month='dec', avg(area)=13.33),\n",
       " Row(month='jan', avg(area)=0.0)]"
      ]
     },
     "execution_count": 13,
     "metadata": {},
     "output_type": "execute_result"
    }
   ],
   "source": [
    "spark_df_months.collect()"
   ]
  },
  {
   "cell_type": "markdown",
   "metadata": {},
   "source": [
    "As you can see, there seem to be larger area fires during what would be considered the summer months in Portugal. On your own, practice more aggregations and manipulations that you might be able to perform on this dataset. "
   ]
  },
  {
   "cell_type": "markdown",
   "metadata": {},
   "source": [
    "## Boolean Masking \n",
    "\n",
    "Boolean masking also works with PySpark DataFrames just like Pandas DataFrames, the only difference being that the `.filter()` method is used in PySpark. To try this out, let's compare the amount of fire in those areas with absolutely no rain to those areas that had rain."
   ]
  },
  {
   "cell_type": "code",
   "execution_count": 14,
   "metadata": {},
   "outputs": [],
   "source": [
    "no_rain = spark_df.filter(spark_df['rain'] == 0.0)\n",
    "some_rain = spark_df.filter(spark_df['rain'] > 0.0)"
   ]
  },
  {
   "cell_type": "markdown",
   "metadata": {},
   "source": [
    "Now, to perform calculations to find the mean of a column, we'll have to import functions from `pyspark.sql`. As always, to read more about them, check out the [documentation](https://spark.apache.org/docs/latest/api/python/pyspark.sql.html#module-pyspark.sql.functions)."
   ]
  },
  {
   "cell_type": "code",
   "execution_count": 15,
   "metadata": {},
   "outputs": [
    {
     "name": "stdout",
     "output_type": "stream",
     "text": [
      "+------------------+\n",
      "|         avg(area)|\n",
      "+------------------+\n",
      "|13.023693516699408|\n",
      "+------------------+\n",
      "\n",
      "no rain fire area:  None \n",
      "\n",
      "+---------+\n",
      "|avg(area)|\n",
      "+---------+\n",
      "|  1.62375|\n",
      "+---------+\n",
      "\n",
      "some rain fire area:  None \n",
      "\n"
     ]
    }
   ],
   "source": [
    "from pyspark.sql.functions import mean\n",
    "\n",
    "print('no rain fire area: ', no_rain.select(mean('area')).show(),'\\n')\n",
    "\n",
    "print('some rain fire area: ', some_rain.select(mean('area')).show(),'\\n')"
   ]
  },
  {
   "cell_type": "markdown",
   "metadata": {},
   "source": [
    "Yes there's definitely something there! Unsurprisingly, rain plays in a big factor in the spread of wildfire.\n",
    "\n",
    "Let's obtain data from only the summer months in Portugal (June, July, and August). We can also do the same for the winter months in Portugal (December, January, February)."
   ]
  },
  {
   "cell_type": "code",
   "execution_count": 16,
   "metadata": {},
   "outputs": [
    {
     "name": "stdout",
     "output_type": "stream",
     "text": [
      "+------------------+\n",
      "|         avg(area)|\n",
      "+------------------+\n",
      "|12.262317596566525|\n",
      "+------------------+\n",
      "\n",
      "summer months fire area None\n",
      "+-----------------+\n",
      "|        avg(area)|\n",
      "+-----------------+\n",
      "|7.918387096774193|\n",
      "+-----------------+\n",
      "\n",
      "winter months fire areas None\n"
     ]
    }
   ],
   "source": [
    "summer_months = spark_df.filter(spark_df['month'].isin(['jun','jul','aug']))\n",
    "winter_months = spark_df.filter(spark_df['month'].isin(['dec','jan','feb']))\n",
    "\n",
    "print('summer months fire area', summer_months.select(mean('area')).show())\n",
    "print('winter months fire areas', winter_months.select(mean('area')).show())"
   ]
  },
  {
   "cell_type": "markdown",
   "metadata": {},
   "source": [
    "## Machine Learning\n",
    "\n",
    "Now that we've performed some data manipulation and aggregation, lets get to the really cool stuff, machine learning! PySpark states that they've used scikit-learn as an inspiration for their implementation of a machine learning library. As a result, many of the methods and functionalities look similar, but there are some crucial distinctions. There are three main concepts found within the ML library:\n",
    "\n",
    "`Transformer`: An algorithm that transforms one PySpark DataFrame into another DataFrame. \n",
    "\n",
    "`Estimator`: An algorithm that can be fit onto a PySpark DataFrame that can then be used as a Transformer. \n",
    "\n",
    "`Pipeline`: A pipeline very similar to an `sklearn` pipeline that chains together different actions.\n",
    "\n",
    "The reasoning behind this separation of the fitting and transforming step is because Spark is lazily evaluated, so the 'fitting' of a model does not actually take place until the Transformation action is called. Let's examine what this actually looks like by performing a regression on the Forest Fire dataset. To start off with, we'll import the necessary libraries for our tasks."
   ]
  },
  {
   "cell_type": "code",
   "execution_count": 25,
   "metadata": {},
   "outputs": [],
   "source": [
    "from pyspark.ml.regression import RandomForestRegressor\n",
    "from pyspark.ml import feature\n",
    "from pyspark.ml.feature import StringIndexer, VectorAssembler, OneHotEncoder"
   ]
  },
  {
   "cell_type": "markdown",
   "metadata": {},
   "source": [
    "Looking at our data, one can see that all the categories are numerical except for day and month. We saw some correlation between the month and area burned in a fire, so we will include that in our model. The day of the week, however, is highly unlikely to have any effect on fire, so we will drop it from the DataFrame."
   ]
  },
  {
   "cell_type": "code",
   "execution_count": 26,
   "metadata": {},
   "outputs": [
    {
     "data": {
      "text/plain": [
       "Row(X=7, Y=5, month='mar', FFMC=86.2, DMC=26.2, DC=94.3, ISI=5.1, temp=8.2, RH=51, wind=6.7, rain=0.0, area=0.0)"
      ]
     },
     "execution_count": 26,
     "metadata": {},
     "output_type": "execute_result"
    }
   ],
   "source": [
    "fire_df = spark_df.drop('day')\n",
    "fire_df.head()"
   ]
  },
  {
   "cell_type": "markdown",
   "metadata": {},
   "source": [
    "In order for us to run our model, we need to turn the months variable into a dummy variable. In `ml` this is a 2-step process that first requires turning the categorical variable into a numerical index (`StringIndexer`). Only after the variable is an integer can PySpark create dummy variable columns related to each category (`OneHotEncoderEstimator`). Your key parameters when using these `ml` estimators are: `inputCol` (the column you want to change) and `outputCol` (where you will store the changed column). Here it is in action: "
   ]
  },
  {
   "cell_type": "code",
   "execution_count": 27,
   "metadata": {},
   "outputs": [],
   "source": [
    "si = StringIndexer(inputCol='month', outputCol='month_num')\n",
    "model = si.fit(fire_df)\n",
    "new_df = model.transform(fire_df)"
   ]
  },
  {
   "cell_type": "markdown",
   "metadata": {},
   "source": [
    "Note the small, but critical distinction between `sklearn`'s implementation of a transformer and PySpark's implementation. `sklearn` is more object oriented and Spark is more functional oriented."
   ]
  },
  {
   "cell_type": "code",
   "execution_count": 28,
   "metadata": {},
   "outputs": [
    {
     "data": {
      "text/plain": [
       "pyspark.ml.feature.StringIndexer"
      ]
     },
     "execution_count": 28,
     "metadata": {},
     "output_type": "execute_result"
    }
   ],
   "source": [
    "## this is an estimator (an untrained transformer)\n",
    "type(si)"
   ]
  },
  {
   "cell_type": "code",
   "execution_count": 29,
   "metadata": {},
   "outputs": [
    {
     "data": {
      "text/plain": [
       "pyspark.ml.feature.StringIndexerModel"
      ]
     },
     "execution_count": 29,
     "metadata": {},
     "output_type": "execute_result"
    }
   ],
   "source": [
    "## this is a transformer (a trained transformer)\n",
    "type(model)"
   ]
  },
  {
   "cell_type": "code",
   "execution_count": 30,
   "metadata": {},
   "outputs": [
    {
     "data": {
      "text/plain": [
       "['aug',\n",
       " 'sep',\n",
       " 'mar',\n",
       " 'jul',\n",
       " 'feb',\n",
       " 'jun',\n",
       " 'oct',\n",
       " 'apr',\n",
       " 'dec',\n",
       " 'jan',\n",
       " 'may',\n",
       " 'nov']"
      ]
     },
     "execution_count": 30,
     "metadata": {},
     "output_type": "execute_result"
    }
   ],
   "source": [
    "model.labels"
   ]
  },
  {
   "cell_type": "code",
   "execution_count": 31,
   "metadata": {},
   "outputs": [
    {
     "data": {
      "text/plain": [
       "[Row(X=7, Y=5, month='mar', FFMC=86.2, DMC=26.2, DC=94.3, ISI=5.1, temp=8.2, RH=51, wind=6.7, rain=0.0, area=0.0, month_num=2.0),\n",
       " Row(X=7, Y=4, month='oct', FFMC=90.6, DMC=35.4, DC=669.1, ISI=6.7, temp=18.0, RH=33, wind=0.9, rain=0.0, area=0.0, month_num=6.0),\n",
       " Row(X=7, Y=4, month='oct', FFMC=90.6, DMC=43.7, DC=686.9, ISI=6.7, temp=14.6, RH=33, wind=1.3, rain=0.0, area=0.0, month_num=6.0),\n",
       " Row(X=8, Y=6, month='mar', FFMC=91.7, DMC=33.3, DC=77.5, ISI=9.0, temp=8.3, RH=97, wind=4.0, rain=0.2, area=0.0, month_num=2.0)]"
      ]
     },
     "execution_count": 31,
     "metadata": {},
     "output_type": "execute_result"
    }
   ],
   "source": [
    "new_df.head(4)"
   ]
  },
  {
   "cell_type": "markdown",
   "metadata": {},
   "source": [
    "As you can see, we have created a new column called `'month_num'` that represents the month by a number. Now that we have performed this step, we can use Spark's version of `OneHotEncoder()` - `OneHotEncoderEstimator()`. Let's make sure we have an accurate representation of the months."
   ]
  },
  {
   "cell_type": "code",
   "execution_count": 32,
   "metadata": {},
   "outputs": [
    {
     "data": {
      "text/plain": [
       "[Row(month_num=8.0),\n",
       " Row(month_num=0.0),\n",
       " Row(month_num=7.0),\n",
       " Row(month_num=1.0),\n",
       " Row(month_num=4.0),\n",
       " Row(month_num=11.0),\n",
       " Row(month_num=3.0),\n",
       " Row(month_num=2.0),\n",
       " Row(month_num=10.0),\n",
       " Row(month_num=6.0),\n",
       " Row(month_num=5.0),\n",
       " Row(month_num=9.0)]"
      ]
     },
     "execution_count": 32,
     "metadata": {},
     "output_type": "execute_result"
    }
   ],
   "source": [
    "new_df.select('month_num').distinct().collect()"
   ]
  },
  {
   "cell_type": "code",
   "execution_count": 33,
   "metadata": {},
   "outputs": [
    {
     "data": {
      "text/plain": [
       "Row(X=7, Y=5, month='mar', FFMC=86.2, DMC=26.2, DC=94.3, ISI=5.1, temp=8.2, RH=51, wind=6.7, rain=0.0, area=0.0, month_num=2.0, month_vec=SparseVector(11, {2: 1.0}))"
      ]
     },
     "execution_count": 33,
     "metadata": {},
     "output_type": "execute_result"
    }
   ],
   "source": [
    "## fitting and transforming the OneHotEncoderEstimator\n",
    "ohe = feature.OneHotEncoder(inputCols=['month_num'], outputCols=['month_vec'], dropLast=True)\n",
    "one_hot_encoded = ohe.fit(new_df).transform(new_df)\n",
    "one_hot_encoded.head()"
   ]
  },
  {
   "cell_type": "markdown",
   "metadata": {},
   "source": [
    "Great, we now have a OneHotEncoded sparse vector in the `'month_vec'` column! Because Spark is optimized for big data, sparse vectors are used rather than entirely new columns for dummy variables because it is more space efficient. You can see in this first row of the DataFrame:  \n",
    "\n",
    "`month_vec=SparseVector(11, {2: 1.0})` this indicates that we have a sparse vector of size 11 (because of the parameter `dropLast = True` in `OneHotEncoderEstimator()`) and this particular data point is the 2nd index of our month labels (march, based off the labels in the `model` StringEstimator transformer).  \n",
    "\n",
    "The final requirement for all machine learning models in PySpark is to put all of the features of your model into one sparse vector. This is once again for efficiency sake. Here, we are doing that with the `VectorAssembler()` estimator."
   ]
  },
  {
   "cell_type": "code",
   "execution_count": 34,
   "metadata": {},
   "outputs": [],
   "source": [
    "features = ['X',\n",
    " 'Y',\n",
    " 'FFMC',\n",
    " 'DMC',\n",
    " 'DC',\n",
    " 'ISI',\n",
    " 'temp',\n",
    " 'RH',\n",
    " 'wind',\n",
    " 'rain',\n",
    " 'month_vec']\n",
    "\n",
    "target = 'area'\n",
    "\n",
    "vector = VectorAssembler(inputCols=features, outputCol='features')\n",
    "vectorized_df = vector.transform(one_hot_encoded)"
   ]
  },
  {
   "cell_type": "code",
   "execution_count": 35,
   "metadata": {},
   "outputs": [
    {
     "data": {
      "text/plain": [
       "Row(X=7, Y=5, month='mar', FFMC=86.2, DMC=26.2, DC=94.3, ISI=5.1, temp=8.2, RH=51, wind=6.7, rain=0.0, area=0.0, month_num=2.0, month_vec=SparseVector(11, {2: 1.0}), features=SparseVector(21, {0: 7.0, 1: 5.0, 2: 86.2, 3: 26.2, 4: 94.3, 5: 5.1, 6: 8.2, 7: 51.0, 8: 6.7, 12: 1.0}))"
      ]
     },
     "execution_count": 35,
     "metadata": {},
     "output_type": "execute_result"
    }
   ],
   "source": [
    "vectorized_df.head()"
   ]
  },
  {
   "cell_type": "markdown",
   "metadata": {},
   "source": [
    "Great! We now have our data in a format that seems acceptable for the last step. It's time for us to actually fit our model to data! Let's fit a Random Forest Regression model to our data. Although there are still a bunch of other features in the DataFrame, it doesn't matter for the machine learning model API. All that needs to be specified are the names of the features column and the label column. "
   ]
  },
  {
   "cell_type": "code",
   "execution_count": 36,
   "metadata": {},
   "outputs": [],
   "source": [
    "## instantiating and fitting the model\n",
    "rf_model = RandomForestRegressor(featuresCol='features', \n",
    "                                 labelCol='area', predictionCol='prediction').fit(vectorized_df)"
   ]
  },
  {
   "cell_type": "code",
   "execution_count": 37,
   "metadata": {},
   "outputs": [
    {
     "data": {
      "text/plain": [
       "SparseVector(21, {0: 0.0593, 1: 0.0761, 2: 0.2266, 3: 0.113, 4: 0.1339, 5: 0.0665, 6: 0.0818, 7: 0.1088, 8: 0.0748, 9: 0.0, 10: 0.0088, 11: 0.0349, 12: 0.0004, 13: 0.001, 15: 0.0131, 16: 0.0, 17: 0.0004, 18: 0.0001, 20: 0.0003})"
      ]
     },
     "execution_count": 37,
     "metadata": {},
     "output_type": "execute_result"
    }
   ],
   "source": [
    "rf_model.featureImportances"
   ]
  },
  {
   "cell_type": "code",
   "execution_count": 38,
   "metadata": {},
   "outputs": [
    {
     "data": {
      "text/plain": [
       "[Row(area=0.0, prediction=6.80699724622053),\n",
       " Row(area=0.0, prediction=3.7652554205783035),\n",
       " Row(area=0.0, prediction=4.614390355085695),\n",
       " Row(area=0.0, prediction=6.38104772747693),\n",
       " Row(area=0.0, prediction=4.7339622690243655),\n",
       " Row(area=0.0, prediction=7.005092706592491),\n",
       " Row(area=0.0, prediction=7.171666121962469),\n",
       " Row(area=0.0, prediction=8.343109235341576),\n",
       " Row(area=0.0, prediction=8.605107130926786),\n",
       " Row(area=0.0, prediction=6.425816814290033)]"
      ]
     },
     "execution_count": 38,
     "metadata": {},
     "output_type": "execute_result"
    }
   ],
   "source": [
    "## generating predictions\n",
    "predictions = rf_model.transform(vectorized_df).select('area', 'prediction')\n",
    "predictions.head(10)"
   ]
  },
  {
   "cell_type": "markdown",
   "metadata": {},
   "source": [
    "Now we can evaluate how well the model performed using `RegressionEvaluator`."
   ]
  },
  {
   "cell_type": "code",
   "execution_count": 39,
   "metadata": {},
   "outputs": [],
   "source": [
    "from pyspark.ml.evaluation import RegressionEvaluator\n",
    "evaluator = RegressionEvaluator(predictionCol='prediction', labelCol='area')"
   ]
  },
  {
   "cell_type": "code",
   "execution_count": 40,
   "metadata": {},
   "outputs": [
    {
     "data": {
      "text/plain": [
       "0.7239774938343142"
      ]
     },
     "execution_count": 40,
     "metadata": {},
     "output_type": "execute_result"
    }
   ],
   "source": [
    "## evaluating r^2\n",
    "evaluator.evaluate(predictions,{evaluator.metricName: 'r2'})"
   ]
  },
  {
   "cell_type": "code",
   "execution_count": 41,
   "metadata": {},
   "outputs": [
    {
     "data": {
      "text/plain": [
       "13.348222375973263"
      ]
     },
     "execution_count": 41,
     "metadata": {},
     "output_type": "execute_result"
    }
   ],
   "source": [
    "## evaluating mean absolute error\n",
    "evaluator.evaluate(predictions,{evaluator.metricName: 'mae'})"
   ]
  },
  {
   "cell_type": "markdown",
   "metadata": {},
   "source": [
    "## Putting it all in a Pipeline\n",
    "\n",
    "We just performed a whole lot of transformations to our data. Let's take a look at all the estimators we used to create this model:\n",
    "\n",
    "* `StringIndexer()` \n",
    "* `OneHotEnconderEstimator()` \n",
    "* `VectorAssembler()` \n",
    "* `RandomForestRegressor()` \n",
    "\n",
    "Once we've fit our model in the Pipeline, we're then going to want to evaluate it to determine how well it performs. We can do this with:\n",
    "\n",
    "* `RegressionEvaluator()` \n",
    "\n",
    "We can streamline all of these transformations to make it much more efficient by chaining them together in a pipeline. The Pipeline object expects a list of the estimators prior set to the parameter `stages`."
   ]
  },
  {
   "cell_type": "code",
   "execution_count": 42,
   "metadata": {},
   "outputs": [],
   "source": [
    "# importing relevant libraries\n",
    "from pyspark.ml.tuning import ParamGridBuilder, TrainValidationSplit, CrossValidator\n",
    "from pyspark.ml import Pipeline"
   ]
  },
  {
   "cell_type": "code",
   "execution_count": 43,
   "metadata": {},
   "outputs": [],
   "source": [
    "## instantiating all necessary estimator objects\n",
    "\n",
    "string_indexer = StringIndexer(inputCol='month', outputCol='month_num', handleInvalid='keep')\n",
    "one_hot_encoder = OneHotEncoder(inputCols=['month_num'], outputCols=['month_vec'], dropLast=True)\n",
    "vector_assember = VectorAssembler(inputCols=features, outputCol='features')\n",
    "random_forest = RandomForestRegressor(featuresCol='features', labelCol='area')\n",
    "stages = [string_indexer, one_hot_encoder, vector_assember, random_forest]\n",
    "\n",
    "# instantiating the pipeline with all them estimator objects\n",
    "pipeline = Pipeline(stages=stages)"
   ]
  },
  {
   "cell_type": "markdown",
   "metadata": {},
   "source": [
    "### Cross-validation \n",
    "\n",
    "You might have missed a critical step in the random forest regression above; we did not cross validate or perform a train/test split! Now we're going to fix that by performing cross-validation and also testing out multiple different combinations of parameters in PySpark's `GridSearch()` equivalent. To begin with, we will create a parameter grid that contains the different parameters we want to use in our model."
   ]
  },
  {
   "cell_type": "code",
   "execution_count": 45,
   "metadata": {},
   "outputs": [],
   "source": [
    "# creating parameter grid\n",
    "\n",
    "params = ParamGridBuilder()\\\n",
    "          .addGrid(random_forest.maxDepth, [5, 10, 15])\\\n",
    "          .addGrid(random_forest.numTrees, [20 ,50, 100])\\\n",
    "          .build()"
   ]
  },
  {
   "cell_type": "markdown",
   "metadata": {},
   "source": [
    "Let's take a look at the params variable we just built."
   ]
  },
  {
   "cell_type": "code",
   "execution_count": 46,
   "metadata": {},
   "outputs": [
    {
     "name": "stdout",
     "output_type": "stream",
     "text": [
      "total combinations of parameters:  9\n"
     ]
    },
    {
     "data": {
      "text/plain": [
       "{Param(parent='RandomForestRegressor_b9b7992222a5', name='maxDepth', doc='Maximum depth of the tree. (>= 0) E.g., depth 0 means 1 leaf node; depth 1 means 1 internal node + 2 leaf nodes.'): 5,\n",
       " Param(parent='RandomForestRegressor_b9b7992222a5', name='numTrees', doc='Number of trees to train (>= 1).'): 20}"
      ]
     },
     "execution_count": 46,
     "metadata": {},
     "output_type": "execute_result"
    }
   ],
   "source": [
    "print('total combinations of parameters: ', len(params))\n",
    "\n",
    "params[0]"
   ]
  },
  {
   "cell_type": "markdown",
   "metadata": {},
   "source": [
    "Now it's time to combine all the steps we've created to work in a single line of code with the `CrossValidator()` estimator."
   ]
  },
  {
   "cell_type": "code",
   "execution_count": 47,
   "metadata": {},
   "outputs": [],
   "source": [
    "## instantiating the evaluator by which we will measure our model's performance\n",
    "reg_evaluator = RegressionEvaluator(predictionCol='prediction', labelCol='area', metricName = 'mae')\n",
    "\n",
    "## instantiating crossvalidator estimator\n",
    "cv = CrossValidator(estimator=pipeline, estimatorParamMaps=params, evaluator=reg_evaluator, parallelism=4)"
   ]
  },
  {
   "cell_type": "code",
   "execution_count": 48,
   "metadata": {},
   "outputs": [],
   "source": [
    "## fitting crossvalidator\n",
    "cross_validated_model = cv.fit(fire_df)"
   ]
  },
  {
   "cell_type": "markdown",
   "metadata": {},
   "source": [
    "Now, let's see how well the model performed! Let's take a look at the average performance for each one of our 9 models. It looks like the optimal performance is an MAE around 23. Note that this is worse than our original model, but that's because our original model had substantial data leakage. We didn't do a train-test split!"
   ]
  },
  {
   "cell_type": "code",
   "execution_count": 49,
   "metadata": {
    "scrolled": true
   },
   "outputs": [
    {
     "data": {
      "text/plain": [
       "[22.409220443496984,\n",
       " 21.21871022306965,\n",
       " 20.95060092299513,\n",
       " 23.509351319041887,\n",
       " 22.236020305616115,\n",
       " 21.930735260204123,\n",
       " 23.632816737011588,\n",
       " 22.369922747203475,\n",
       " 22.02070301962906]"
      ]
     },
     "execution_count": 49,
     "metadata": {},
     "output_type": "execute_result"
    }
   ],
   "source": [
    "cross_validated_model.avgMetrics"
   ]
  },
  {
   "cell_type": "markdown",
   "metadata": {},
   "source": [
    "Now, let's take a look at the optimal parameters of our best performing model. The `cross_validated_model` variable is now saved as the best performing model from the grid search just performed. Let's look to see how well the predictions performed. As you can see, this dataset has a large number of areas of \"0.0\" burned. Perhaps, it would be better to investigate this problem as a classification task."
   ]
  },
  {
   "cell_type": "code",
   "execution_count": 50,
   "metadata": {},
   "outputs": [
    {
     "name": "stdout",
     "output_type": "stream",
     "text": [
      "+------------------+-------+\n",
      "|        prediction|   area|\n",
      "+------------------+-------+\n",
      "|5.9131871278524475|    0.0|\n",
      "| 6.802086204020819|    0.0|\n",
      "| 7.572104370005946|    0.0|\n",
      "| 6.303869785812315|    0.0|\n",
      "| 5.506453633612433|    0.0|\n",
      "| 6.661189182628748|    0.0|\n",
      "|  12.6413851831628|    0.0|\n",
      "| 8.731802104454223|    0.0|\n",
      "| 8.681782737164824|    0.0|\n",
      "| 6.111530591847964|    0.0|\n",
      "|6.1327856173836945|    0.0|\n",
      "|6.6739073634182215|    0.0|\n",
      "| 7.003344419417298|    0.0|\n",
      "| 9.962436798451671|    0.0|\n",
      "| 44.05721898869161|    0.0|\n",
      "|6.4588667762256105|    0.0|\n",
      "| 4.967361120101238|    0.0|\n",
      "| 6.713433754378183|    0.0|\n",
      "| 4.951853495211559|    0.0|\n",
      "| 5.749343535240622|    0.0|\n",
      "|13.174936281486461|    0.0|\n",
      "| 5.379925418390685|    0.0|\n",
      "|5.2771478308613355|    0.0|\n",
      "| 8.907744683918898|    0.0|\n",
      "|  6.03755921170625|    0.0|\n",
      "|5.5516564781222515|    0.0|\n",
      "| 8.333485648860215|    0.0|\n",
      "|  9.84056940611572|    0.0|\n",
      "| 9.380425057036605|    0.0|\n",
      "| 10.28468164098212|    0.0|\n",
      "|25.884371212108633|    0.0|\n",
      "|  6.94853326527511|    0.0|\n",
      "|11.313307422086542|    0.0|\n",
      "|  6.24581453024425|    0.0|\n",
      "| 5.652801804334397|    0.0|\n",
      "| 6.636107697296914|    0.0|\n",
      "| 5.335138311384497|    0.0|\n",
      "| 6.294852173325122|    0.0|\n",
      "|  7.57278351327325|    0.0|\n",
      "| 4.624347905708751|    0.0|\n",
      "|21.301448277886536|    0.0|\n",
      "| 5.364390233037333|    0.0|\n",
      "| 4.753339758738419|    0.0|\n",
      "| 6.459430200003901|    0.0|\n",
      "|6.3918934987993365|    0.0|\n",
      "| 27.64530452985556|    0.0|\n",
      "|  7.38782838999899|    0.0|\n",
      "| 5.912708632477407|    0.0|\n",
      "|  4.57217129513134|    0.0|\n",
      "| 6.129425780476405|    0.0|\n",
      "|10.608385917602048|    0.0|\n",
      "|5.0052226243184865|    0.0|\n",
      "|5.3947619385230325|    0.0|\n",
      "|5.3947619385230325|    0.0|\n",
      "| 5.156450447582078|    0.0|\n",
      "|  9.08343214083155|    0.0|\n",
      "| 6.194256113518537|    0.0|\n",
      "|5.6292063129616565|    0.0|\n",
      "| 5.145599950705733|    0.0|\n",
      "|10.435679954977324|    0.0|\n",
      "| 4.500835974058341|    0.0|\n",
      "| 4.562830504543133|    0.0|\n",
      "| 5.874936773420237|    0.0|\n",
      "| 4.850909755116623|    0.0|\n",
      "| 5.067968084102784|    0.0|\n",
      "|   6.4780694732789|    0.0|\n",
      "|27.686580671513916|    0.0|\n",
      "| 9.391287663014733|    0.0|\n",
      "|  9.40262526356247|    0.0|\n",
      "| 4.659161541432891|    0.0|\n",
      "|12.397700107899476|    0.0|\n",
      "| 6.192047027310133|    0.0|\n",
      "| 4.587729104951831|    0.0|\n",
      "| 5.555423691323421|    0.0|\n",
      "|  6.87116508912369|    0.0|\n",
      "| 7.360538690030998|    0.0|\n",
      "|  8.28125427790453|    0.0|\n",
      "| 6.199098097615852|    0.0|\n",
      "| 5.738702193945025|    0.0|\n",
      "| 9.158327504050158|    0.0|\n",
      "|11.179931802975519|    0.0|\n",
      "|11.186396866637924|    0.0|\n",
      "|6.6484642721381135|    0.0|\n",
      "|  9.28550936306284|    0.0|\n",
      "|5.8562401105891455|    0.0|\n",
      "|  18.1367807791114|    0.0|\n",
      "|15.515431566501757|    0.0|\n",
      "|25.456069719460128|    0.0|\n",
      "|15.723862341746033|    0.0|\n",
      "|5.0909693060225605|    0.0|\n",
      "| 5.359718240318557|    0.0|\n",
      "|6.2059910303333625|    0.0|\n",
      "| 7.545723738833788|    0.0|\n",
      "|15.202601699008829|    0.0|\n",
      "| 5.893637689540817|    0.0|\n",
      "| 5.479501454101283|    0.0|\n",
      "| 5.148003060427458|    0.0|\n",
      "| 4.707220566442593|    0.0|\n",
      "|  5.34470236130982|    0.0|\n",
      "|  7.44252805099524|    0.0|\n",
      "|  7.44252805099524|    0.0|\n",
      "| 4.995397975173173|    0.0|\n",
      "| 4.914439001593115|    0.0|\n",
      "|38.422538740695806|    0.0|\n",
      "|5.3000380574923085|    0.0|\n",
      "| 5.355157725636751|    0.0|\n",
      "| 6.037090260111601|    0.0|\n",
      "| 4.618994513322529|    0.0|\n",
      "| 5.631832128887094|    0.0|\n",
      "| 5.402564885977576|    0.0|\n",
      "| 5.525255023459941|    0.0|\n",
      "|4.5053057870409745|    0.0|\n",
      "| 6.061813305436423|    0.0|\n",
      "| 5.446086968435116|    0.0|\n",
      "| 5.473152464704712|    0.0|\n",
      "| 5.605046848936935|    0.0|\n",
      "| 4.700810700500895|    0.0|\n",
      "|  4.66264619761176|    0.0|\n",
      "|4.4975549184982535|    0.0|\n",
      "| 5.630434303177662|    0.0|\n",
      "| 5.073329862561643|    0.0|\n",
      "|  5.44064227567711|    0.0|\n",
      "|  6.84980554138707|    0.0|\n",
      "| 8.380461328192068|    0.0|\n",
      "| 5.653322420345935|    0.0|\n",
      "| 5.596580890105306|    0.0|\n",
      "| 4.710872984420345|    0.0|\n",
      "|  8.52175816553238|    0.0|\n",
      "| 5.083594069583108|    0.0|\n",
      "| 10.33397722513184|    0.0|\n",
      "| 6.165550152131073|    0.0|\n",
      "| 4.564692226903626|    0.0|\n",
      "| 4.289598463892702|    0.0|\n",
      "| 6.052540509017387|    0.0|\n",
      "| 4.269232839680793|    0.0|\n",
      "| 6.326178325190527|    0.0|\n",
      "| 7.024632700409313|    0.0|\n",
      "| 7.350205477533638|    0.0|\n",
      "|13.585140411876257|   0.36|\n",
      "|  11.2431541495642|   0.43|\n",
      "| 8.157405347957587|   0.47|\n",
      "| 4.368116062343357|   0.55|\n",
      "|11.218323088323089|   0.61|\n",
      "| 9.978700556943922|   0.71|\n",
      "| 4.763450859512101|   0.77|\n",
      "|21.348747934118578|    0.9|\n",
      "| 4.699344941222633|   0.95|\n",
      "|10.750369397566693|   0.96|\n",
      "| 5.913739913883737|   1.07|\n",
      "|18.532968605628852|   1.12|\n",
      "|  8.70082792294454|   1.19|\n",
      "| 11.96162016577485|   1.36|\n",
      "| 9.441862569163707|   1.43|\n",
      "| 5.940026466990861|   1.46|\n",
      "|19.968539608561528|   1.46|\n",
      "| 5.623767209640273|   1.56|\n",
      "|13.777974407746989|   1.61|\n",
      "|  7.61112680222245|   1.63|\n",
      "| 4.535708325085814|   1.64|\n",
      "| 8.333485648860215|   1.69|\n",
      "|  5.36262306538887|   1.75|\n",
      "| 6.578727044671154|    1.9|\n",
      "|  8.05526125173411|   1.94|\n",
      "| 32.82943098549734|   1.95|\n",
      "| 7.246600801151077|   2.01|\n",
      "| 5.557683768003809|   2.14|\n",
      "| 4.519564413923487|   2.29|\n",
      "| 5.562307090925666|   2.51|\n",
      "| 7.957272742075767|   2.53|\n",
      "| 10.54091262604504|   2.55|\n",
      "|  7.59825410616594|   2.57|\n",
      "|   8.1846959411041|   2.69|\n",
      "| 7.946071678844702|   2.74|\n",
      "|10.515097383550913|   3.07|\n",
      "|4.2462661606728105|    3.5|\n",
      "| 4.361113595823072|   4.53|\n",
      "|  6.47251943060222|   4.61|\n",
      "| 5.349391425074189|   4.69|\n",
      "| 8.631694492470636|   4.88|\n",
      "|12.522371690925558|   5.23|\n",
      "|  8.49742461719834|   5.33|\n",
      "| 8.492986173530065|   5.44|\n",
      "| 5.086107663272996|   6.38|\n",
      "| 8.680912613394012|   6.83|\n",
      "| 12.04639774620734|   6.96|\n",
      "| 8.724959218035373|   7.04|\n",
      "|12.940109943194388|   7.19|\n",
      "|12.635599171491414|    7.3|\n",
      "| 4.828888686841385|    7.4|\n",
      "|  5.92174708487955|   8.24|\n",
      "| 6.228041266509579|   8.31|\n",
      "| 6.887141896877761|   8.68|\n",
      "| 5.495206371433853|   8.71|\n",
      "| 10.51159686183985|   9.41|\n",
      "| 5.495206371433853|  10.01|\n",
      "| 5.281462727548088|  10.02|\n",
      "|  6.47251943060222|  10.93|\n",
      "|10.729370886373811|  11.06|\n",
      "| 8.878980874547414|  11.24|\n",
      "|  9.15604730110778|  11.32|\n",
      "|11.431470978558528|  11.53|\n",
      "| 4.997546909191746|   12.1|\n",
      "| 6.301968639518732|  13.05|\n",
      "| 8.262312795935292|   13.7|\n",
      "| 5.256813826239916|  13.99|\n",
      "| 7.304165187133927|  14.57|\n",
      "| 7.294885107082747|  15.45|\n",
      "| 10.01152107210999|   17.2|\n",
      "|19.123337966526293|  19.23|\n",
      "| 20.54090129343897|  23.41|\n",
      "| 8.829267462577743|  24.23|\n",
      "| 9.643828603602236|   26.0|\n",
      "| 6.814344811396459|  26.13|\n",
      "| 7.561324304614028|  27.35|\n",
      "| 5.562064913812978|  28.66|\n",
      "| 5.562064913812978|  28.66|\n",
      "|6.6025754628378195|  29.48|\n",
      "| 9.117714995721741|  30.32|\n",
      "|13.264574100328552|  31.72|\n",
      "| 6.230234083292013|  31.86|\n",
      "| 9.554142020432709|  32.07|\n",
      "|  7.89981526550853|  35.88|\n",
      "| 6.482914525610439|  36.85|\n",
      "|24.381246139420604|  37.02|\n",
      "| 7.226966938933266|  37.71|\n",
      "|10.499824693274569|  48.55|\n",
      "|11.236822604342272|  49.37|\n",
      "|15.482973908928386|   58.3|\n",
      "|41.344505397481065|   64.1|\n",
      "|16.979178814257285|   71.3|\n",
      "|26.359614377821895|  88.49|\n",
      "|  44.8771414782188|  95.18|\n",
      "|15.212972394839612| 103.39|\n",
      "| 47.94202681404129| 105.66|\n",
      "| 98.23221984940396| 154.88|\n",
      "|  42.0412503550808| 196.48|\n",
      "| 85.06394752203738| 200.94|\n",
      "| 78.39486801431438| 212.88|\n",
      "| 656.3621939299223|1090.84|\n",
      "|5.8986331682999715|    0.0|\n",
      "| 5.654148525915969|    0.0|\n",
      "| 7.451855073823506|    0.0|\n",
      "|  6.55014476486796|  10.13|\n",
      "|7.6783516310749285|    0.0|\n",
      "| 7.643849299275192|   2.87|\n",
      "|21.691545011540885|   0.76|\n",
      "|12.732103077046725|   0.09|\n",
      "| 5.090046521165972|   0.75|\n",
      "| 15.17053482483852|    0.0|\n",
      "| 5.333818046417755|   2.47|\n",
      "|24.051848064149613|   0.68|\n",
      "| 6.783765672438249|   0.24|\n",
      "| 5.510299083598648|   0.21|\n",
      "| 5.463129593820045|   1.52|\n",
      "|11.935300950934334|  10.34|\n",
      "| 8.898379398619504|    0.0|\n",
      "|10.008199733219291|   8.02|\n",
      "| 5.495354337810129|   0.68|\n",
      "| 5.461829685419609|    0.0|\n",
      "| 6.735513884677373|   1.38|\n",
      "| 6.597621170276133|   8.85|\n",
      "| 5.603095218615379|    3.3|\n",
      "| 4.855539649948796|   4.25|\n",
      "| 9.926517481437598|   1.56|\n",
      "| 5.751064640332529|   6.54|\n",
      "| 6.318665700654422|   0.79|\n",
      "| 6.862740581346571|   0.17|\n",
      "| 7.351503422297263|    0.0|\n",
      "| 5.219215663610869|    0.0|\n",
      "| 5.979023572530488|    4.4|\n",
      "| 8.250881363546183|   0.52|\n",
      "| 9.301413927872815|   9.27|\n",
      "| 5.773142986502654|   3.09|\n",
      "| 8.826421696743253|   8.98|\n",
      "| 11.09479018404143|  11.19|\n",
      "| 6.289551236569025|   5.38|\n",
      "|12.168714010628879|  17.85|\n",
      "| 11.35925766863754|  10.73|\n",
      "|12.168714010628879|  22.03|\n",
      "|12.168714010628879|   9.77|\n",
      "| 6.230861691114479|   9.27|\n",
      "|12.456879253553309|  24.77|\n",
      "| 5.811979066705418|    0.0|\n",
      "| 5.052756798036491|    1.1|\n",
      "| 7.945008358958642|  24.24|\n",
      "|12.269745277156753|    0.0|\n",
      "|13.944810239288628|    0.0|\n",
      "| 7.136598634280047|    0.0|\n",
      "| 5.165891910516309|    0.0|\n",
      "| 5.711134412456566|    0.0|\n",
      "| 6.861604391099921|    0.0|\n",
      "|15.693109817987734|    8.0|\n",
      "| 4.317027618947002|   2.64|\n",
      "| 37.78428873668308|  86.45|\n",
      "| 11.00693968475519|   6.57|\n",
      "| 7.354646369297202|    0.0|\n",
      "| 4.924298065115135|    0.9|\n",
      "| 6.985623229027039|    0.0|\n",
      "|10.880110857153666|    0.0|\n",
      "| 5.608490581973273|    0.0|\n",
      "+------------------+-------+\n",
      "only showing top 300 rows\n",
      "\n"
     ]
    }
   ],
   "source": [
    "predictions = cross_validated_model.transform(spark_df)\n",
    "predictions.select('prediction', 'area').show(300)"
   ]
  },
  {
   "cell_type": "markdown",
   "metadata": {},
   "source": [
    "Now let's go ahead and take a look at the feature importances of our random forest model. In order to do this, we need to unroll our pipeline to access the random forest model. Let's start by first checking out the `.bestModel` attribute of our `cross_validated_model`. "
   ]
  },
  {
   "cell_type": "code",
   "execution_count": 51,
   "metadata": {
    "slideshow": {
     "slide_type": "slide"
    }
   },
   "outputs": [
    {
     "data": {
      "text/plain": [
       "pyspark.ml.pipeline.PipelineModel"
      ]
     },
     "execution_count": 51,
     "metadata": {},
     "output_type": "execute_result"
    }
   ],
   "source": [
    "type(cross_validated_model.bestModel)"
   ]
  },
  {
   "cell_type": "markdown",
   "metadata": {},
   "source": [
    "`ml` is treating the entire pipeline as the best performing model, so we need to go deeper into the pipeline to access the random forest model within it. Previously, we put the random forest model as the final \"stage\" in the stages variable list. Let's look at the `.stages` attribute of the `.bestModel`."
   ]
  },
  {
   "cell_type": "code",
   "execution_count": 52,
   "metadata": {},
   "outputs": [
    {
     "data": {
      "text/plain": [
       "[StringIndexerModel: uid=StringIndexer_7f75d315f87a, handleInvalid=keep,\n",
       " OneHotEncoderModel: uid=OneHotEncoder_40d6adba7f3c, dropLast=true, handleInvalid=error, numInputCols=1, numOutputCols=1,\n",
       " VectorAssembler_516233f276ee,\n",
       " RandomForestRegressionModel: uid=RandomForestRegressor_b9b7992222a5, numTrees=100, numFeatures=22]"
      ]
     },
     "execution_count": 52,
     "metadata": {},
     "output_type": "execute_result"
    }
   ],
   "source": [
    "cross_validated_model.bestModel.stages"
   ]
  },
  {
   "cell_type": "markdown",
   "metadata": {},
   "source": [
    "Perfect! There's the RandomForestRegressionModel, represented by the last item in the stages list. Now, we should be able to access all the attributes of the random forest regressor."
   ]
  },
  {
   "cell_type": "code",
   "execution_count": 53,
   "metadata": {},
   "outputs": [],
   "source": [
    "optimal_rf_model = cross_validated_model.bestModel.stages[3]"
   ]
  },
  {
   "cell_type": "code",
   "execution_count": 54,
   "metadata": {},
   "outputs": [
    {
     "data": {
      "text/plain": [
       "SparseVector(22, {0: 0.105, 1: 0.069, 2: 0.145, 3: 0.14, 4: 0.1012, 5: 0.0862, 6: 0.1174, 7: 0.0913, 8: 0.1103, 9: 0.0, 10: 0.0069, 11: 0.0216, 12: 0.0, 13: 0.0049, 14: 0.0, 15: 0.0001, 16: 0.0002, 17: 0.0002, 18: 0.0001, 20: 0.0003})"
      ]
     },
     "execution_count": 54,
     "metadata": {},
     "output_type": "execute_result"
    }
   ],
   "source": [
    "optimal_rf_model.featureImportances"
   ]
  },
  {
   "cell_type": "code",
   "execution_count": 55,
   "metadata": {},
   "outputs": [
    {
     "data": {
      "text/plain": [
       "100"
      ]
     },
     "execution_count": 55,
     "metadata": {},
     "output_type": "execute_result"
    }
   ],
   "source": [
    "optimal_rf_model.getNumTrees"
   ]
  },
  {
   "cell_type": "markdown",
   "metadata": {},
   "source": [
    "## Summary\n",
    "\n",
    "In this lesson, you learned about PySpark's DataFrames, machine learning models, and pipelines. With the use of a pipeline, you can train a huge number of models simultaneously, saving you a substantial amount of time and effort. Up next, you will have a chance to build a PySpark machine learning pipeline of your own with a classification problem!"
   ]
  }
 ],
 "metadata": {
  "kernelspec": {
   "display_name": "Python 3",
   "language": "python",
   "name": "python3"
  },
  "language_info": {
   "codemirror_mode": {
    "name": "ipython",
    "version": 3
   },
   "file_extension": ".py",
   "mimetype": "text/x-python",
   "name": "python",
   "nbconvert_exporter": "python",
   "pygments_lexer": "ipython3",
   "version": "3.8.4"
  }
 },
 "nbformat": 4,
 "nbformat_minor": 2
}
